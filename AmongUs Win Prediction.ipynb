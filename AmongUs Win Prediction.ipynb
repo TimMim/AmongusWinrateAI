{
 "cells": [
  {
   "cell_type": "code",
   "execution_count": 2,
   "id": "10c49f47",
   "metadata": {},
   "outputs": [],
   "source": [
    "import pandas as pd\n",
    "import numpy as np\n",
    "import sklearn\n",
    "import pickle\n",
    "from sklearn import linear_model, preprocessing\n",
    "from sklearn.utils import shuffle\n",
    "from sklearn.neighbors import KNeighborsClassifier"
   ]
  },
  {
   "cell_type": "code",
   "execution_count": 4,
   "id": "51fc94fe",
   "metadata": {},
   "outputs": [
    {
     "name": "stdout",
     "output_type": "stream",
     "text": [
      "0.6\n",
      "Predicteted:  0 Data:  (0, 3, 14, 0, 1) Actual:  0\n",
      "Predicteted:  1 Data:  (1, 0, 11, 4, 0) Actual:  1\n",
      "Predicteted:  1 Data:  (0, 7, 42, 1, 1) Actual:  1\n",
      "Predicteted:  0 Data:  (0, 4, 29, 0, 1) Actual:  1\n",
      "Predicteted:  0 Data:  (0, 9, 94, 0, 2) Actual:  1\n",
      "Predicteted:  0 Data:  (0, 1, 9, 0, 2) Actual:  0\n",
      "Predicteted:  0 Data:  (0, 8, 59, 0, 1) Actual:  1\n",
      "Predicteted:  0 Data:  (0, 4, 5, 1, 1) Actual:  0\n",
      "Predicteted:  1 Data:  (0, 9, 88, 1, 2) Actual:  0\n",
      "Predicteted:  1 Data:  (0, 7, 54, 1, 1) Actual:  1\n"
     ]
    }
   ],
   "source": [
    "#Loading and sorting\n",
    "\n",
    "data = pd.read_csv(\"User10.csv\")\n",
    "\n",
    "data = data[[\"Team\", \"Outcome\", \"Task Completed\", \"Game Length\", \"Sabotages Fixed\", \"Murdered\"]]\n",
    "\n",
    "#preparing\n",
    "\n",
    "prep =  preprocessing.LabelEncoder()\n",
    "\n",
    "team = prep.fit_transform(list(data[\"Team\"]))\n",
    "outcome = prep.fit_transform(list(data[\"Outcome\"]))\n",
    "taskCompleted = prep.fit_transform(list(data[\"Task Completed\"]))\n",
    "gameLength = prep.fit_transform(list(data[\"Game Length\"]))\n",
    "sabotagesFixed = prep.fit_transform(list(data[\"Sabotages Fixed\"]))\n",
    "murdered = prep.fit_transform(list(data[\"Murdered\"]))\n",
    "\n",
    "#splitting\n",
    "\n",
    "X = list(zip(team, taskCompleted, gameLength, sabotagesFixed, murdered))\n",
    "y = list(outcome)\n",
    "\n",
    "x_train, x_test, y_train, y_test = sklearn.model_selection.train_test_split(X, y, test_size = 0.1)\n",
    "\n",
    "# define KNN\n",
    "\n",
    "knn = KNeighborsClassifier(n_neighbors = 2)\n",
    "knn.fit(x_train, y_train)\n",
    "\n",
    "acc = knn.score(x_test, y_test)\n",
    "print(acc)\n",
    "\n",
    "#knn predict\n",
    "\n",
    "predict = knn.predict(x_test)\n",
    "\n",
    "for x in range (len(x_test)):\n",
    "    print(\"Predicteted: \", predict[x], \"Data: \", x_test[x], \"Actual: \", y_test[x])"
   ]
  }
 ],
 "metadata": {
  "kernelspec": {
   "display_name": "Python 3 (ipykernel)",
   "language": "python",
   "name": "python3"
  },
  "language_info": {
   "codemirror_mode": {
    "name": "ipython",
    "version": 3
   },
   "file_extension": ".py",
   "mimetype": "text/x-python",
   "name": "python",
   "nbconvert_exporter": "python",
   "pygments_lexer": "ipython3",
   "version": "3.11.3"
  }
 },
 "nbformat": 4,
 "nbformat_minor": 5
}
